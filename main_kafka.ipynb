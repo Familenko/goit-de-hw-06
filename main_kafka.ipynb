{
 "cells": [
  {
   "cell_type": "code",
   "execution_count": 1,
   "id": "df8a502f",
   "metadata": {},
   "outputs": [],
   "source": [
    "from kafka.admin import NewTopic\n",
    "\n",
    "import json\n",
    "import uuid\n",
    "import random\n",
    "import datetime\n",
    "import time\n",
    "\n",
    "from objects import admin_client, make_consumer, make_producer"
   ]
  },
  {
   "cell_type": "markdown",
   "id": "98cf6de6",
   "metadata": {},
   "source": [
    "# Створення топіків в Kafka"
   ]
  },
  {
   "cell_type": "code",
   "execution_count": 2,
   "id": "ea279639",
   "metadata": {},
   "outputs": [],
   "source": [
    "my_name = \"barka\"\n",
    "topic_names = ['_streaming_in', '_streaming_out']"
   ]
  },
  {
   "cell_type": "code",
   "execution_count": 3,
   "id": "f200d731",
   "metadata": {},
   "outputs": [],
   "source": [
    "# for name in topic_names:\n",
    "#     topic_name = f'{my_name}_{name}'\n",
    "#     new_topic = NewTopic(name=topic_name, num_partitions=2, replication_factor=1)\n",
    "#     try:\n",
    "#         admin_client.create_topics(new_topics=[new_topic], validate_only=False)\n",
    "#         print(f\"Topic '{topic_name}' created successfully.\")\n",
    "#     except Exception as e:\n",
    "#         print(f\"An error occurred: {e}\")"
   ]
  },
  {
   "cell_type": "code",
   "execution_count": 4,
   "id": "170467bb",
   "metadata": {},
   "outputs": [
    {
     "name": "stdout",
     "output_type": "stream",
     "text": [
      "['barka__streaming_out', 'barka_building_sensors', 'barka_streaming_out', 'barka_humidity_alerts', 'barkastreaming_in', 'barka__streaming_in', 'barka_streaming_in', 'barka_temperature_alerts']\n"
     ]
    }
   ],
   "source": [
    "print([topic for topic in admin_client.list_topics() if \"barka\" in topic])\n",
    "admin_client.close()"
   ]
  },
  {
   "cell_type": "markdown",
   "id": "a5abd05b",
   "metadata": {},
   "source": [
    "# Відправка даних до топіків"
   ]
  },
  {
   "cell_type": "code",
   "execution_count": 5,
   "id": "fa2af51a",
   "metadata": {},
   "outputs": [
    {
     "name": "stdout",
     "output_type": "stream",
     "text": [
      "Message 0 sent to topic 'barka__streaming_in' from device 'ff9f8748-a1df-4cf1-9fd8-b215076ee940' successfully.\n",
      "Message 1 sent to topic 'barka__streaming_in' from device 'ff9f8748-a1df-4cf1-9fd8-b215076ee940' successfully.\n",
      "Message 2 sent to topic 'barka__streaming_in' from device 'ff9f8748-a1df-4cf1-9fd8-b215076ee940' successfully.\n",
      "Message 3 sent to topic 'barka__streaming_in' from device 'ff9f8748-a1df-4cf1-9fd8-b215076ee940' successfully.\n",
      "Message 4 sent to topic 'barka__streaming_in' from device 'ff9f8748-a1df-4cf1-9fd8-b215076ee940' successfully.\n",
      "Message 5 sent to topic 'barka__streaming_in' from device 'ff9f8748-a1df-4cf1-9fd8-b215076ee940' successfully.\n",
      "Message 6 sent to topic 'barka__streaming_in' from device 'ff9f8748-a1df-4cf1-9fd8-b215076ee940' successfully.\n",
      "Message 7 sent to topic 'barka__streaming_in' from device 'ff9f8748-a1df-4cf1-9fd8-b215076ee940' successfully.\n",
      "Message 8 sent to topic 'barka__streaming_in' from device 'ff9f8748-a1df-4cf1-9fd8-b215076ee940' successfully.\n",
      "Message 9 sent to topic 'barka__streaming_in' from device 'ff9f8748-a1df-4cf1-9fd8-b215076ee940' successfully.\n",
      "Message 10 sent to topic 'barka__streaming_in' from device 'ff9f8748-a1df-4cf1-9fd8-b215076ee940' successfully.\n",
      "Message 11 sent to topic 'barka__streaming_in' from device 'ff9f8748-a1df-4cf1-9fd8-b215076ee940' successfully.\n",
      "Message 12 sent to topic 'barka__streaming_in' from device 'ff9f8748-a1df-4cf1-9fd8-b215076ee940' successfully.\n",
      "Message 13 sent to topic 'barka__streaming_in' from device 'ff9f8748-a1df-4cf1-9fd8-b215076ee940' successfully.\n",
      "Message 14 sent to topic 'barka__streaming_in' from device 'ff9f8748-a1df-4cf1-9fd8-b215076ee940' successfully.\n",
      "Message 15 sent to topic 'barka__streaming_in' from device 'ff9f8748-a1df-4cf1-9fd8-b215076ee940' successfully.\n",
      "Message 16 sent to topic 'barka__streaming_in' from device 'ff9f8748-a1df-4cf1-9fd8-b215076ee940' successfully.\n",
      "Message 17 sent to topic 'barka__streaming_in' from device 'ff9f8748-a1df-4cf1-9fd8-b215076ee940' successfully.\n",
      "Message 18 sent to topic 'barka__streaming_in' from device 'ff9f8748-a1df-4cf1-9fd8-b215076ee940' successfully.\n",
      "Message 19 sent to topic 'barka__streaming_in' from device 'ff9f8748-a1df-4cf1-9fd8-b215076ee940' successfully.\n",
      "Message 20 sent to topic 'barka__streaming_in' from device 'ff9f8748-a1df-4cf1-9fd8-b215076ee940' successfully.\n",
      "Message 21 sent to topic 'barka__streaming_in' from device 'ff9f8748-a1df-4cf1-9fd8-b215076ee940' successfully.\n",
      "Message 22 sent to topic 'barka__streaming_in' from device 'ff9f8748-a1df-4cf1-9fd8-b215076ee940' successfully.\n",
      "Message 23 sent to topic 'barka__streaming_in' from device 'ff9f8748-a1df-4cf1-9fd8-b215076ee940' successfully.\n",
      "Message 24 sent to topic 'barka__streaming_in' from device 'ff9f8748-a1df-4cf1-9fd8-b215076ee940' successfully.\n",
      "Message 25 sent to topic 'barka__streaming_in' from device 'ff9f8748-a1df-4cf1-9fd8-b215076ee940' successfully.\n",
      "Message 26 sent to topic 'barka__streaming_in' from device 'ff9f8748-a1df-4cf1-9fd8-b215076ee940' successfully.\n",
      "Message 27 sent to topic 'barka__streaming_in' from device 'ff9f8748-a1df-4cf1-9fd8-b215076ee940' successfully.\n",
      "Message 28 sent to topic 'barka__streaming_in' from device 'ff9f8748-a1df-4cf1-9fd8-b215076ee940' successfully.\n",
      "Message 29 sent to topic 'barka__streaming_in' from device 'ff9f8748-a1df-4cf1-9fd8-b215076ee940' successfully.\n",
      "Message 30 sent to topic 'barka__streaming_in' from device 'ff9f8748-a1df-4cf1-9fd8-b215076ee940' successfully.\n",
      "Message 31 sent to topic 'barka__streaming_in' from device 'ff9f8748-a1df-4cf1-9fd8-b215076ee940' successfully.\n",
      "Message 32 sent to topic 'barka__streaming_in' from device 'ff9f8748-a1df-4cf1-9fd8-b215076ee940' successfully.\n",
      "Message 33 sent to topic 'barka__streaming_in' from device 'ff9f8748-a1df-4cf1-9fd8-b215076ee940' successfully.\n",
      "Message 34 sent to topic 'barka__streaming_in' from device 'ff9f8748-a1df-4cf1-9fd8-b215076ee940' successfully.\n",
      "Message 35 sent to topic 'barka__streaming_in' from device 'ff9f8748-a1df-4cf1-9fd8-b215076ee940' successfully.\n",
      "Message 36 sent to topic 'barka__streaming_in' from device 'ff9f8748-a1df-4cf1-9fd8-b215076ee940' successfully.\n",
      "Message 37 sent to topic 'barka__streaming_in' from device 'ff9f8748-a1df-4cf1-9fd8-b215076ee940' successfully.\n",
      "Message 38 sent to topic 'barka__streaming_in' from device 'ff9f8748-a1df-4cf1-9fd8-b215076ee940' successfully.\n",
      "Message 39 sent to topic 'barka__streaming_in' from device 'ff9f8748-a1df-4cf1-9fd8-b215076ee940' successfully.\n",
      "Message 40 sent to topic 'barka__streaming_in' from device 'ff9f8748-a1df-4cf1-9fd8-b215076ee940' successfully.\n",
      "Message 41 sent to topic 'barka__streaming_in' from device 'ff9f8748-a1df-4cf1-9fd8-b215076ee940' successfully.\n",
      "Message 42 sent to topic 'barka__streaming_in' from device 'ff9f8748-a1df-4cf1-9fd8-b215076ee940' successfully.\n",
      "Message 43 sent to topic 'barka__streaming_in' from device 'ff9f8748-a1df-4cf1-9fd8-b215076ee940' successfully.\n",
      "Message 44 sent to topic 'barka__streaming_in' from device 'ff9f8748-a1df-4cf1-9fd8-b215076ee940' successfully.\n",
      "Message 45 sent to topic 'barka__streaming_in' from device 'ff9f8748-a1df-4cf1-9fd8-b215076ee940' successfully.\n",
      "Message 46 sent to topic 'barka__streaming_in' from device 'ff9f8748-a1df-4cf1-9fd8-b215076ee940' successfully.\n",
      "Message 47 sent to topic 'barka__streaming_in' from device 'ff9f8748-a1df-4cf1-9fd8-b215076ee940' successfully.\n",
      "Message 48 sent to topic 'barka__streaming_in' from device 'ff9f8748-a1df-4cf1-9fd8-b215076ee940' successfully.\n",
      "Message 49 sent to topic 'barka__streaming_in' from device 'ff9f8748-a1df-4cf1-9fd8-b215076ee940' successfully.\n",
      "Message 50 sent to topic 'barka__streaming_in' from device 'ff9f8748-a1df-4cf1-9fd8-b215076ee940' successfully.\n",
      "Message 51 sent to topic 'barka__streaming_in' from device 'ff9f8748-a1df-4cf1-9fd8-b215076ee940' successfully.\n",
      "Message 52 sent to topic 'barka__streaming_in' from device 'ff9f8748-a1df-4cf1-9fd8-b215076ee940' successfully.\n",
      "Message 53 sent to topic 'barka__streaming_in' from device 'ff9f8748-a1df-4cf1-9fd8-b215076ee940' successfully.\n",
      "Message 54 sent to topic 'barka__streaming_in' from device 'ff9f8748-a1df-4cf1-9fd8-b215076ee940' successfully.\n",
      "Message 55 sent to topic 'barka__streaming_in' from device 'ff9f8748-a1df-4cf1-9fd8-b215076ee940' successfully.\n",
      "Message 56 sent to topic 'barka__streaming_in' from device 'ff9f8748-a1df-4cf1-9fd8-b215076ee940' successfully.\n",
      "Message 57 sent to topic 'barka__streaming_in' from device 'ff9f8748-a1df-4cf1-9fd8-b215076ee940' successfully.\n",
      "Message 58 sent to topic 'barka__streaming_in' from device 'ff9f8748-a1df-4cf1-9fd8-b215076ee940' successfully.\n",
      "Message 59 sent to topic 'barka__streaming_in' from device 'ff9f8748-a1df-4cf1-9fd8-b215076ee940' successfully.\n",
      "Message 60 sent to topic 'barka__streaming_in' from device 'ff9f8748-a1df-4cf1-9fd8-b215076ee940' successfully.\n",
      "Message 61 sent to topic 'barka__streaming_in' from device 'ff9f8748-a1df-4cf1-9fd8-b215076ee940' successfully.\n",
      "Message 62 sent to topic 'barka__streaming_in' from device 'ff9f8748-a1df-4cf1-9fd8-b215076ee940' successfully.\n",
      "Message 63 sent to topic 'barka__streaming_in' from device 'ff9f8748-a1df-4cf1-9fd8-b215076ee940' successfully.\n",
      "Message 64 sent to topic 'barka__streaming_in' from device 'ff9f8748-a1df-4cf1-9fd8-b215076ee940' successfully.\n",
      "Message 65 sent to topic 'barka__streaming_in' from device 'ff9f8748-a1df-4cf1-9fd8-b215076ee940' successfully.\n",
      "Message 66 sent to topic 'barka__streaming_in' from device 'ff9f8748-a1df-4cf1-9fd8-b215076ee940' successfully.\n",
      "Message 67 sent to topic 'barka__streaming_in' from device 'ff9f8748-a1df-4cf1-9fd8-b215076ee940' successfully.\n",
      "Message 68 sent to topic 'barka__streaming_in' from device 'ff9f8748-a1df-4cf1-9fd8-b215076ee940' successfully.\n",
      "Message 69 sent to topic 'barka__streaming_in' from device 'ff9f8748-a1df-4cf1-9fd8-b215076ee940' successfully.\n",
      "Message 70 sent to topic 'barka__streaming_in' from device 'ff9f8748-a1df-4cf1-9fd8-b215076ee940' successfully.\n",
      "Message 71 sent to topic 'barka__streaming_in' from device 'ff9f8748-a1df-4cf1-9fd8-b215076ee940' successfully.\n",
      "Message 72 sent to topic 'barka__streaming_in' from device 'ff9f8748-a1df-4cf1-9fd8-b215076ee940' successfully.\n",
      "Message 73 sent to topic 'barka__streaming_in' from device 'ff9f8748-a1df-4cf1-9fd8-b215076ee940' successfully.\n",
      "Message 74 sent to topic 'barka__streaming_in' from device 'ff9f8748-a1df-4cf1-9fd8-b215076ee940' successfully.\n",
      "Message 75 sent to topic 'barka__streaming_in' from device 'ff9f8748-a1df-4cf1-9fd8-b215076ee940' successfully.\n",
      "Message 76 sent to topic 'barka__streaming_in' from device 'ff9f8748-a1df-4cf1-9fd8-b215076ee940' successfully.\n",
      "Message 77 sent to topic 'barka__streaming_in' from device 'ff9f8748-a1df-4cf1-9fd8-b215076ee940' successfully.\n",
      "Message 78 sent to topic 'barka__streaming_in' from device 'ff9f8748-a1df-4cf1-9fd8-b215076ee940' successfully.\n",
      "Message 79 sent to topic 'barka__streaming_in' from device 'ff9f8748-a1df-4cf1-9fd8-b215076ee940' successfully.\n",
      "Message 80 sent to topic 'barka__streaming_in' from device 'ff9f8748-a1df-4cf1-9fd8-b215076ee940' successfully.\n",
      "Message 81 sent to topic 'barka__streaming_in' from device 'ff9f8748-a1df-4cf1-9fd8-b215076ee940' successfully.\n",
      "Message 82 sent to topic 'barka__streaming_in' from device 'ff9f8748-a1df-4cf1-9fd8-b215076ee940' successfully.\n",
      "Message 83 sent to topic 'barka__streaming_in' from device 'ff9f8748-a1df-4cf1-9fd8-b215076ee940' successfully.\n",
      "Message 84 sent to topic 'barka__streaming_in' from device 'ff9f8748-a1df-4cf1-9fd8-b215076ee940' successfully.\n",
      "Message 85 sent to topic 'barka__streaming_in' from device 'ff9f8748-a1df-4cf1-9fd8-b215076ee940' successfully.\n",
      "Message 86 sent to topic 'barka__streaming_in' from device 'ff9f8748-a1df-4cf1-9fd8-b215076ee940' successfully.\n",
      "Message 87 sent to topic 'barka__streaming_in' from device 'ff9f8748-a1df-4cf1-9fd8-b215076ee940' successfully.\n",
      "Message 88 sent to topic 'barka__streaming_in' from device 'ff9f8748-a1df-4cf1-9fd8-b215076ee940' successfully.\n",
      "Message 89 sent to topic 'barka__streaming_in' from device 'ff9f8748-a1df-4cf1-9fd8-b215076ee940' successfully.\n",
      "Message 90 sent to topic 'barka__streaming_in' from device 'ff9f8748-a1df-4cf1-9fd8-b215076ee940' successfully.\n",
      "Message 91 sent to topic 'barka__streaming_in' from device 'ff9f8748-a1df-4cf1-9fd8-b215076ee940' successfully.\n",
      "Message 92 sent to topic 'barka__streaming_in' from device 'ff9f8748-a1df-4cf1-9fd8-b215076ee940' successfully.\n",
      "Message 93 sent to topic 'barka__streaming_in' from device 'ff9f8748-a1df-4cf1-9fd8-b215076ee940' successfully.\n",
      "Message 94 sent to topic 'barka__streaming_in' from device 'ff9f8748-a1df-4cf1-9fd8-b215076ee940' successfully.\n",
      "Message 95 sent to topic 'barka__streaming_in' from device 'ff9f8748-a1df-4cf1-9fd8-b215076ee940' successfully.\n",
      "Message 96 sent to topic 'barka__streaming_in' from device 'ff9f8748-a1df-4cf1-9fd8-b215076ee940' successfully.\n",
      "Message 97 sent to topic 'barka__streaming_in' from device 'ff9f8748-a1df-4cf1-9fd8-b215076ee940' successfully.\n",
      "Message 98 sent to topic 'barka__streaming_in' from device 'ff9f8748-a1df-4cf1-9fd8-b215076ee940' successfully.\n",
      "Message 99 sent to topic 'barka__streaming_in' from device 'ff9f8748-a1df-4cf1-9fd8-b215076ee940' successfully.\n"
     ]
    }
   ],
   "source": [
    "topic_name = f'{my_name}__streaming_in'\n",
    "device_id = str(uuid.uuid4())\n",
    "producer = make_producer()\n",
    "\n",
    "for i in range(100):\n",
    "    try:\n",
    "        data = {\n",
    "            \"timestamp\": datetime.datetime.now().isoformat(),\n",
    "            \"temperature\": random.randint(25, 45),\n",
    "            \"humidity\": random.randint(15, 85),\n",
    "        }\n",
    "        producer.send(topic_name, key=device_id, value=data)\n",
    "        producer.flush()\n",
    "        print(f\"Message {i} sent to topic '{topic_name}' from device '{device_id}' successfully.\")\n",
    "        time.sleep(1)\n",
    "    except Exception as e:\n",
    "        print(f\"An error occurred: {e}\")\n",
    "\n",
    "producer.close()"
   ]
  },
  {
   "cell_type": "markdown",
   "id": "e86423b6",
   "metadata": {},
   "source": [
    "# Перевірка стрімінгу"
   ]
  },
  {
   "cell_type": "code",
   "execution_count": null,
   "id": "2e9d3327",
   "metadata": {},
   "outputs": [],
   "source": [
    "# consumer = make_consumer()\n",
    "\n",
    "# temp_topic_name = f'{my_name}__streaming_out'\n",
    "\n",
    "# consumer.subscribe([temp_topic_name])\n",
    "\n",
    "# try:\n",
    "#     for message in consumer:\n",
    "#         print(f\"Received message: {message.value}\")\n",
    "# except Exception as e:\n",
    "#     print(f\"An error occurred: {e}\")\n",
    "# finally:\n",
    "#     consumer.close()"
   ]
  },
  {
   "cell_type": "code",
   "execution_count": null,
   "id": "b810ba4b",
   "metadata": {},
   "outputs": [],
   "source": []
  }
 ],
 "metadata": {
  "kernelspec": {
   "display_name": ".venv",
   "language": "python",
   "name": "python3"
  },
  "language_info": {
   "codemirror_mode": {
    "name": "ipython",
    "version": 3
   },
   "file_extension": ".py",
   "mimetype": "text/x-python",
   "name": "python",
   "nbconvert_exporter": "python",
   "pygments_lexer": "ipython3",
   "version": "3.11.3"
  }
 },
 "nbformat": 4,
 "nbformat_minor": 5
}
