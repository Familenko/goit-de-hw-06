{
 "cells": [
  {
   "cell_type": "code",
   "execution_count": 1,
   "id": "df8a502f",
   "metadata": {},
   "outputs": [],
   "source": [
    "from objects import make_consumer"
   ]
  },
  {
   "cell_type": "markdown",
   "id": "e86423b6",
   "metadata": {},
   "source": [
    "# Перевірка стрімінгу"
   ]
  },
  {
   "cell_type": "code",
   "execution_count": 2,
   "id": "2e9d3327",
   "metadata": {},
   "outputs": [
    {
     "name": "stdout",
     "output_type": "stream",
     "text": [
      "Received message: {'window_start': '2025-08-26T11:26:30.000+03:00', 'window_end': '2025-08-26T11:27:30.000+03:00', 'avg_temperature': 14.571428571428571, 'avg_humidity': 39.0, 'id': 3, 'code': 103, 'message': \"It's too cold\", 'trigger_type': 'cold'}\n",
      "Received message: {'window_start': '2025-08-26T11:29:00.000+03:00', 'window_end': '2025-08-26T11:30:00.000+03:00', 'avg_temperature': 12.5, 'avg_humidity': 32.5, 'id': 3, 'code': 103, 'message': \"It's too cold\", 'trigger_type': 'cold'}\n",
      "Received message: {'window_start': '2025-08-26T11:29:30.000+03:00', 'window_end': '2025-08-26T11:30:30.000+03:00', 'avg_temperature': 14.333333333333334, 'avg_humidity': 51.25, 'id': 3, 'code': 103, 'message': \"It's too cold\", 'trigger_type': 'cold'}\n",
      "Received message: {'window_start': '2025-08-26T11:26:00.000+03:00', 'window_end': '2025-08-26T11:27:00.000+03:00', 'avg_temperature': 15.1875, 'avg_humidity': 49.9375, 'id': 3, 'code': 103, 'message': \"It's too cold\", 'trigger_type': 'cold'}\n",
      "Received message: {'window_start': '2025-08-26T11:30:00.000+03:00', 'window_end': '2025-08-26T11:31:00.000+03:00', 'avg_temperature': 14.941176470588236, 'avg_humidity': 54.23529411764706, 'id': 1, 'code': 101, 'message': \"It's too dry\", 'trigger_type': 'dry'}\n",
      "Received message: {'window_start': '2025-08-26T11:30:30.000+03:00', 'window_end': '2025-08-26T11:31:30.000+03:00', 'avg_temperature': 15.285714285714286, 'avg_humidity': 53.142857142857146, 'id': 1, 'code': 101, 'message': \"It's too dry\", 'trigger_type': 'dry'}\n"
     ]
    }
   ],
   "source": [
    "consumer = make_consumer()\n",
    "\n",
    "temp_topic_name = 'barka_out'\n",
    "\n",
    "consumer.subscribe([temp_topic_name])\n",
    "\n",
    "try:\n",
    "    for message in consumer:\n",
    "        print(f\"Received message: {message.value}\")\n",
    "except Exception as e:\n",
    "    print(f\"An error occurred: {e}\")\n",
    "finally:\n",
    "    consumer.close()"
   ]
  },
  {
   "cell_type": "code",
   "execution_count": null,
   "id": "1717be09",
   "metadata": {},
   "outputs": [],
   "source": []
  }
 ],
 "metadata": {
  "kernelspec": {
   "display_name": ".venv",
   "language": "python",
   "name": "python3"
  },
  "language_info": {
   "codemirror_mode": {
    "name": "ipython",
    "version": 3
   },
   "file_extension": ".py",
   "mimetype": "text/x-python",
   "name": "python",
   "nbconvert_exporter": "python",
   "pygments_lexer": "ipython3",
   "version": "3.11.3"
  }
 },
 "nbformat": 4,
 "nbformat_minor": 5
}
