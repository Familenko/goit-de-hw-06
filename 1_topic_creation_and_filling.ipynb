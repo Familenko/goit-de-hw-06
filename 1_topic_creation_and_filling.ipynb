{
 "cells": [
  {
   "cell_type": "code",
   "execution_count": 1,
   "id": "df8a502f",
   "metadata": {},
   "outputs": [],
   "source": [
    "from kafka.admin import NewTopic\n",
    "\n",
    "import json\n",
    "import uuid\n",
    "import random\n",
    "import datetime\n",
    "import time\n",
    "\n",
    "from objects import admin_client, make_consumer, make_producer"
   ]
  },
  {
   "cell_type": "markdown",
   "id": "98cf6de6",
   "metadata": {},
   "source": [
    "# Створення топіків в Kafka"
   ]
  },
  {
   "cell_type": "code",
   "execution_count": 2,
   "id": "ea279639",
   "metadata": {},
   "outputs": [],
   "source": [
    "my_name = \"barka\"\n",
    "topic_names = ['_in', '_out']"
   ]
  },
  {
   "cell_type": "code",
   "execution_count": 3,
   "id": "f200d731",
   "metadata": {},
   "outputs": [
    {
     "name": "stdout",
     "output_type": "stream",
     "text": [
      "An error occurred: [Error 36] TopicAlreadyExistsError: Request 'CreateTopicsRequest_v3(create_topic_requests=[(topic='barka_in', num_partitions=2, replication_factor=1, replica_assignment=[], configs=[])], timeout=30000, validate_only=False)' failed with response 'CreateTopicsResponse_v3(throttle_time_ms=0, topic_errors=[(topic='barka_in', error_code=36, error_message=\"Topic 'barka_in' already exists.\")])'.\n",
      "An error occurred: [Error 36] TopicAlreadyExistsError: Request 'CreateTopicsRequest_v3(create_topic_requests=[(topic='barka_out', num_partitions=2, replication_factor=1, replica_assignment=[], configs=[])], timeout=30000, validate_only=False)' failed with response 'CreateTopicsResponse_v3(throttle_time_ms=0, topic_errors=[(topic='barka_out', error_code=36, error_message=\"Topic 'barka_out' already exists.\")])'.\n"
     ]
    }
   ],
   "source": [
    "for name in topic_names:\n",
    "    topic_name = f'{my_name}{name}'\n",
    "    new_topic = NewTopic(name=topic_name, num_partitions=2, replication_factor=1)\n",
    "    try:\n",
    "        admin_client.create_topics(new_topics=[new_topic], validate_only=False)\n",
    "        print(f\"Topic '{topic_name}' created successfully.\")\n",
    "    except Exception as e:\n",
    "        print(f\"An error occurred: {e}\")"
   ]
  },
  {
   "cell_type": "code",
   "execution_count": 4,
   "id": "170467bb",
   "metadata": {},
   "outputs": [
    {
     "name": "stdout",
     "output_type": "stream",
     "text": [
      "['barka__streaming_out', 'barka_building_sensors', 'barka_out', 'barka_streaming_out', 'barka_in', 'barka_humidity_alerts', 'barkastreaming_in', 'barka__streaming_in', 'barka_streaming_in', 'barka_temperature_alerts']\n"
     ]
    }
   ],
   "source": [
    "print([topic for topic in admin_client.list_topics() if \"barka\" in topic])\n",
    "admin_client.close()"
   ]
  },
  {
   "cell_type": "markdown",
   "id": "a5abd05b",
   "metadata": {},
   "source": [
    "# Відправка даних до топіків"
   ]
  },
  {
   "cell_type": "code",
   "execution_count": 5,
   "id": "fa2af51a",
   "metadata": {},
   "outputs": [
    {
     "name": "stdout",
     "output_type": "stream",
     "text": [
      "Message 0 sent to topic 'barka_in' from device 'ecb34013-e9e6-4ae4-8c1e-015c8a633e78' successfully.\n",
      "Message 1 sent to topic 'barka_in' from device 'ecb34013-e9e6-4ae4-8c1e-015c8a633e78' successfully.\n",
      "Message 2 sent to topic 'barka_in' from device 'ecb34013-e9e6-4ae4-8c1e-015c8a633e78' successfully.\n",
      "Message 3 sent to topic 'barka_in' from device 'ecb34013-e9e6-4ae4-8c1e-015c8a633e78' successfully.\n",
      "Message 4 sent to topic 'barka_in' from device 'ecb34013-e9e6-4ae4-8c1e-015c8a633e78' successfully.\n",
      "Message 5 sent to topic 'barka_in' from device 'ecb34013-e9e6-4ae4-8c1e-015c8a633e78' successfully.\n",
      "Message 6 sent to topic 'barka_in' from device 'ecb34013-e9e6-4ae4-8c1e-015c8a633e78' successfully.\n",
      "Message 7 sent to topic 'barka_in' from device 'ecb34013-e9e6-4ae4-8c1e-015c8a633e78' successfully.\n",
      "Message 8 sent to topic 'barka_in' from device 'ecb34013-e9e6-4ae4-8c1e-015c8a633e78' successfully.\n",
      "Message 9 sent to topic 'barka_in' from device 'ecb34013-e9e6-4ae4-8c1e-015c8a633e78' successfully.\n",
      "Message 10 sent to topic 'barka_in' from device 'ecb34013-e9e6-4ae4-8c1e-015c8a633e78' successfully.\n",
      "Message 11 sent to topic 'barka_in' from device 'ecb34013-e9e6-4ae4-8c1e-015c8a633e78' successfully.\n",
      "Message 12 sent to topic 'barka_in' from device 'ecb34013-e9e6-4ae4-8c1e-015c8a633e78' successfully.\n",
      "Message 13 sent to topic 'barka_in' from device 'ecb34013-e9e6-4ae4-8c1e-015c8a633e78' successfully.\n",
      "Message 14 sent to topic 'barka_in' from device 'ecb34013-e9e6-4ae4-8c1e-015c8a633e78' successfully.\n",
      "Message 15 sent to topic 'barka_in' from device 'ecb34013-e9e6-4ae4-8c1e-015c8a633e78' successfully.\n",
      "Message 16 sent to topic 'barka_in' from device 'ecb34013-e9e6-4ae4-8c1e-015c8a633e78' successfully.\n",
      "Message 17 sent to topic 'barka_in' from device 'ecb34013-e9e6-4ae4-8c1e-015c8a633e78' successfully.\n",
      "Message 18 sent to topic 'barka_in' from device 'ecb34013-e9e6-4ae4-8c1e-015c8a633e78' successfully.\n"
     ]
    },
    {
     "ename": "KeyboardInterrupt",
     "evalue": "",
     "output_type": "error",
     "traceback": [
      "\u001b[31m---------------------------------------------------------------------------\u001b[39m",
      "\u001b[31mKeyboardInterrupt\u001b[39m                         Traceback (most recent call last)",
      "\u001b[36mCell\u001b[39m\u001b[36m \u001b[39m\u001b[32mIn[5]\u001b[39m\u001b[32m, line 15\u001b[39m\n\u001b[32m     13\u001b[39m     producer.flush()\n\u001b[32m     14\u001b[39m     \u001b[38;5;28mprint\u001b[39m(\u001b[33mf\u001b[39m\u001b[33m\"\u001b[39m\u001b[33mMessage \u001b[39m\u001b[38;5;132;01m{\u001b[39;00mi\u001b[38;5;132;01m}\u001b[39;00m\u001b[33m sent to topic \u001b[39m\u001b[33m'\u001b[39m\u001b[38;5;132;01m{\u001b[39;00mtopic_name\u001b[38;5;132;01m}\u001b[39;00m\u001b[33m'\u001b[39m\u001b[33m from device \u001b[39m\u001b[33m'\u001b[39m\u001b[38;5;132;01m{\u001b[39;00mdevice_id\u001b[38;5;132;01m}\u001b[39;00m\u001b[33m'\u001b[39m\u001b[33m successfully.\u001b[39m\u001b[33m\"\u001b[39m)\n\u001b[32m---> \u001b[39m\u001b[32m15\u001b[39m     time.sleep(\u001b[32m3\u001b[39m)\n\u001b[32m     16\u001b[39m \u001b[38;5;28;01mexcept\u001b[39;00m \u001b[38;5;167;01mException\u001b[39;00m \u001b[38;5;28;01mas\u001b[39;00m e:\n\u001b[32m     17\u001b[39m     \u001b[38;5;28mprint\u001b[39m(\u001b[33mf\u001b[39m\u001b[33m\"\u001b[39m\u001b[33mAn error occurred: \u001b[39m\u001b[38;5;132;01m{\u001b[39;00me\u001b[38;5;132;01m}\u001b[39;00m\u001b[33m\"\u001b[39m)\n",
      "\u001b[31mKeyboardInterrupt\u001b[39m: "
     ]
    }
   ],
   "source": [
    "topic_name = f'{my_name}_in'\n",
    "device_id = str(uuid.uuid4())\n",
    "producer = make_producer()\n",
    "\n",
    "for i in range(1000):\n",
    "    try:\n",
    "        data = {\n",
    "            \"timestamp\": datetime.datetime.now().isoformat(),\n",
    "            \"temperature\": random.randint(10, 20),\n",
    "            \"humidity\": random.randint(10, 90),\n",
    "        }\n",
    "        producer.send(topic_name, key=device_id, value=data)\n",
    "        producer.flush()\n",
    "        print(f\"Message {i} sent to topic '{topic_name}' from device '{device_id}' successfully.\")\n",
    "        time.sleep(3)\n",
    "    except Exception as e:\n",
    "        print(f\"An error occurred: {e}\")\n",
    "\n",
    "producer.close()"
   ]
  }
 ],
 "metadata": {
  "kernelspec": {
   "display_name": ".venv",
   "language": "python",
   "name": "python3"
  },
  "language_info": {
   "codemirror_mode": {
    "name": "ipython",
    "version": 3
   },
   "file_extension": ".py",
   "mimetype": "text/x-python",
   "name": "python",
   "nbconvert_exporter": "python",
   "pygments_lexer": "ipython3",
   "version": "3.11.3"
  }
 },
 "nbformat": 4,
 "nbformat_minor": 5
}
